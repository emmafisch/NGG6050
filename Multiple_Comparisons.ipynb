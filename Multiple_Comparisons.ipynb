{
  "nbformat": 4,
  "nbformat_minor": 0,
  "metadata": {
    "colab": {
      "provenance": [],
      "authorship_tag": "ABX9TyPAdhDddyzD0PrVnOmk07v0",
      "include_colab_link": true
    },
    "kernelspec": {
      "name": "python3",
      "display_name": "Python 3"
    },
    "language_info": {
      "name": "python"
    }
  },
  "cells": [
    {
      "cell_type": "markdown",
      "metadata": {
        "id": "view-in-github",
        "colab_type": "text"
      },
      "source": [
        "<a href=\"https://colab.research.google.com/github/emmafisch/NGG6050/blob/main/Multiple_Comparisons.ipynb\" target=\"_parent\"><img src=\"https://colab.research.google.com/assets/colab-badge.svg\" alt=\"Open In Colab\"/></a>"
      ]
    },
    {
      "cell_type": "markdown",
      "source": [
        "##Multiple Comparisons exercise"
      ],
      "metadata": {
        "id": "AxRiNbc6M4zi"
      }
    },
    {
      "cell_type": "code",
      "execution_count": 1,
      "metadata": {
        "id": "MiNT-ZgfM1x1"
      },
      "outputs": [],
      "source": [
        "import matplotlib.pyplot as plt\n",
        "import numpy as np\n",
        "import scipy.stats as st\n",
        "import pandas as pd\n",
        "from statsmodels.stats.multitest import multipletests"
      ]
    },
    {
      "cell_type": "code",
      "source": [
        "# Simulate 1000 t-tests comparing two samples with equal means and standard deviations, and save the p-values.\n",
        "# At p<0.05 we expect that ~5% of the simulations to yield a \"statistically significant\" result\n",
        "# (of rejecting the NULL hypothesis that the samples come from distributions with equal means).\n",
        "\n",
        "# Define the population distribution\n",
        "mu = 1\n",
        "sigma = 1\n",
        "samp_size = 20\n",
        "\n",
        "# Number of simulations\n",
        "num_experiments = 1000\n",
        "\n",
        "# Run the simulation\n",
        "p_vals = []\n",
        "for i in range(num_experiments):\n",
        "    # Create two identical random samples\n",
        "    samp_one = np.random.normal(mu, sigma, samp_size)\n",
        "    samp_two = np.random.normal(mu, sigma, samp_size)\n",
        "    # Perform t-test\n",
        "    t_stat, p_value = st.ttest_ind(samp_one, samp_two)\n",
        "    p_vals.append(p_value)\n",
        "\n",
        "# Convert p-values to array\n",
        "p_vals = np.array(p_vals)\n",
        "\n",
        "# Calculate the proportion of simulations with p < 0.05 (statistically significant results)\n",
        "stat_signif = np.sum(p_vals < 0.05) / num_experiments\n",
        "\n",
        "# Print results\n",
        "print(f\"Proportion of statistically significant results (p < 0.05): {stat_signif:.4f}\")\n",
        "\n",
        "\n"
      ],
      "metadata": {
        "colab": {
          "base_uri": "https://localhost:8080/"
        },
        "id": "Z6qlaVvbNBiC",
        "outputId": "8637abc3-f5b2-4916-d3a3-1158c4db57e1"
      },
      "execution_count": 2,
      "outputs": [
        {
          "output_type": "stream",
          "name": "stdout",
          "text": [
            "Proportion of statistically significant results (p < 0.05): 0.0600\n"
          ]
        }
      ]
    },
    {
      "cell_type": "code",
      "source": [
        "# Once you have the simulated p-values,\n",
        "# apply both methods to address the multiple comparisons problem.\n",
        "\n",
        "# Bonferroni correction:\n",
        "alpha = 0.05\n",
        "num_experiments = 1000\n",
        "corrected_alpha = alpha / num_experiments\n",
        "\n",
        "# Looping through all p-vals in array to check if they are statistically signif after correction.\n",
        "reject_count = 0\n",
        "fail_to_reject_count = 0\n",
        "for p_val in p_vals:\n",
        "  if p_val < corrected_alpha:\n",
        "    reject_count += 1\n",
        "  else:\n",
        "    fail_to_reject_count += 1\n",
        "\n",
        "print(f\"Bonferroni correction:\")\n",
        "print(f\"Reject null hypothesis in {reject_count} cases.\")\n",
        "print(f\"Fail to reject null hypothesis in {fail_to_reject_count} cases.\")\n",
        "print(\"---\")\n",
        "\n",
        "\n",
        "# Benjamini–Hochberg procedure:\n",
        "\n",
        "# 'fdr_bh' applies the Benjamini-Hochberg procedure to control the False Discovery Rate\n",
        "reject, pvals_corrected, alphacSidak, alphacBonf = multipletests(p_vals, alpha=0.05, method='fdr_bh')\n",
        "\n",
        "print(f\"Benjamini–Hochberg procedure:\")\n",
        "print(f\"Reject the null hypothesis in {np.count_nonzero(reject)} cases.\")\n"
      ],
      "metadata": {
        "colab": {
          "base_uri": "https://localhost:8080/"
        },
        "id": "Jlp4AUVtOKGO",
        "outputId": "287686db-bb1b-4d88-f155-d768483d65d5"
      },
      "execution_count": 6,
      "outputs": [
        {
          "output_type": "stream",
          "name": "stdout",
          "text": [
            "Bonferroni correction:\n",
            "Reject null hypothesis in 0 cases.\n",
            "Fail to reject null hypothesis in 1000 cases.\n",
            "---\n",
            "Benjamini–Hochberg procedure:\n",
            "Reject the null hypothesis in 0 cases.\n"
          ]
        }
      ]
    },
    {
      "cell_type": "code",
      "source": [
        "#\n",
        "\n",
        "# Define the population distribution\n",
        "mu_one = 1\n",
        "mu_two = 2\n",
        "sigma = 1\n",
        "samp_size = 20\n",
        "\n",
        "# Number of simulations\n",
        "num_experiments = 1000\n",
        "\n",
        "# Run the simulation\n",
        "p_vals = []\n",
        "for i in range(num_experiments):\n",
        "    # Create two identical random samples\n",
        "    samp_one = np.random.normal(mu_one, sigma, samp_size)\n",
        "    samp_two = np.random.normal(mu_two, sigma, samp_size)\n",
        "    # Perform t-test\n",
        "    t_stat, p_value = st.ttest_ind(samp_one, samp_two)\n",
        "    p_vals.append(p_value)\n",
        "\n",
        "# Convert p-values to array\n",
        "p_vals = np.array(p_vals)\n",
        "\n",
        "# Calculate the proportion of simulations with p < 0.05 (statistically significant results)\n",
        "stat_signif = np.sum(p_vals < 0.05) / num_experiments\n",
        "\n",
        "# Print results\n",
        "print(f\"Proportion of statistically significant results (p < 0.05): {stat_signif:.4f}\")\n",
        "print(\"---\")\n",
        "\n",
        "\n",
        "# Bonferroni correction:\n",
        "alpha = 0.05\n",
        "num_experiments = 1000\n",
        "corrected_alpha = alpha / num_experiments\n",
        "\n",
        "# Looping through all p-vals in array to check if they are statistically signif after correction.\n",
        "reject_count = 0\n",
        "fail_to_reject_count = 0\n",
        "for p_val in p_vals:\n",
        "  if p_val < corrected_alpha:\n",
        "    reject_count += 1\n",
        "  else:\n",
        "    fail_to_reject_count += 1\n",
        "\n",
        "print(f\"Bonferroni correction:\")\n",
        "print(f\"Reject null hypothesis in {reject_count} cases.\")\n",
        "print(f\"Fail to reject null hypothesis in {fail_to_reject_count} cases.\")\n",
        "print(\"---\")\n",
        "\n",
        "\n",
        "# Benjamini–Hochberg procedure:\n",
        "\n",
        "# 'fdr_bh' applies the Benjamini-Hochberg procedure to control the False Discovery Rate\n",
        "reject, pvals_corrected, alphacSidak, alphacBonf = multipletests(p_vals, alpha=0.05, method='fdr_bh')\n",
        "\n",
        "print(f\"Benjamini–Hochberg procedure:\")\n",
        "print(f\"Reject the null hypothesis in {np.count_nonzero(reject)} cases.\")"
      ],
      "metadata": {
        "colab": {
          "base_uri": "https://localhost:8080/"
        },
        "id": "m9RyYhuVUUR1",
        "outputId": "191f62dd-f948-4a1d-d56c-d00065611325"
      },
      "execution_count": 7,
      "outputs": [
        {
          "output_type": "stream",
          "name": "stdout",
          "text": [
            "Proportion of statistically significant results (p < 0.05): 0.8640\n",
            "---\n",
            "Bonferroni correction:\n",
            "Reject null hypothesis in 112 cases.\n",
            "Fail to reject null hypothesis in 888 cases.\n",
            "---\n",
            "Benjamini–Hochberg procedure:\n",
            "Reject the null hypothesis in 849 cases.\n"
          ]
        }
      ]
    }
  ]
}