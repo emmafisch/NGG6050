{
  "nbformat": 4,
  "nbformat_minor": 0,
  "metadata": {
    "colab": {
      "provenance": [],
      "authorship_tag": "ABX9TyMQIXwZ2FnOgwghmMTYtRIL",
      "include_colab_link": true
    },
    "kernelspec": {
      "name": "python3",
      "display_name": "Python 3"
    },
    "language_info": {
      "name": "python"
    }
  },
  "cells": [
    {
      "cell_type": "markdown",
      "metadata": {
        "id": "view-in-github",
        "colab_type": "text"
      },
      "source": [
        "<a href=\"https://colab.research.google.com/github/emmafisch/NGG6050/blob/main/Parametric_Correlations.ipynb\" target=\"_parent\"><img src=\"https://colab.research.google.com/assets/colab-badge.svg\" alt=\"Open In Colab\"/></a>"
      ]
    },
    {
      "cell_type": "markdown",
      "source": [
        "##Exercises 09/25/24: Parametric Correlation Coefficient"
      ],
      "metadata": {
        "id": "Mqf2KJcYMwZz"
      }
    },
    {
      "cell_type": "code",
      "source": [
        "import matplotlib.pyplot as plt\n",
        "import numpy as np\n",
        "import scipy.stats as st\n",
        "import pandas as pd\n",
        "import seaborn as sns\n",
        "import math"
      ],
      "metadata": {
        "id": "PCwCr2nbPPh1"
      },
      "execution_count": null,
      "outputs": []
    },
    {
      "cell_type": "code",
      "execution_count": null,
      "metadata": {
        "colab": {
          "base_uri": "https://localhost:8080/",
          "height": 581
        },
        "id": "skEk26D-MsPD",
        "outputId": "ac1ecade-9d5e-49c1-f83d-4a72da2ce6d6"
      },
      "outputs": [
        {
          "output_type": "display_data",
          "data": {
            "text/plain": [
              "<Figure size 1000x600 with 1 Axes>"
            ],
            "image/png": "[encoded data removed]"
          },
          "metadata": {}
        },
        {
          "output_type": "stream",
          "name": "stdout",
          "text": [
            "Yes, wing and tail length look positively correlated.\n"
          ]
        }
      ],
      "source": [
        "# Question 1:\n",
        "# Plot X vs Y. Do they look related?\n",
        "\n",
        "# Store wing and tail lengths in arrays\n",
        "wing_length = [10.4, 10.8, 11.1, 10.2, 10.3, 10.2, 10.7, 10.5, 10.8, 11.2, 10.6, 11.4]\n",
        "tail_length = [7.4, 7.6, 7.9, 7.2, 7.4, 7.1, 7.4, 7.2, 7.8, 7.7, 7.8, 8.3]\n",
        "\n",
        "# Create scatterplot of wing vs tail length\n",
        "plt.figure(figsize=(10, 6))\n",
        "sns.scatterplot(x=wing_length, y=tail_length, marker='o')\n",
        "plt.title('Wing Length vs Tail Length')\n",
        "plt.xlabel('Wing Length (cm)')\n",
        "plt.ylabel('Tail Length (cm)')\n",
        "plt.show()\n",
        "\n",
        "print(\"Yes, wing and tail length look positively correlated.\")"
      ]
    },
    {
      "cell_type": "code",
      "source": [
        "# Question 2:\n",
        "# Calculate r(x,y) and r(y,x), first using the equations above and then\n",
        "# using the Python numpy funciton corrcoef. Did you get the same answers?\n",
        "\n",
        "# Calculate rho(x,y):\n",
        "wing_mean = np.sum(wing_length)/len(wing_length)\n",
        "tail_mean = np.sum(tail_length)/len(tail_length)\n",
        "numerator = 0\n",
        "denom_x = 0\n",
        "denom_y = 0\n",
        "for i in range(len(wing_length)):\n",
        "  x_par = wing_length[i] - wing_mean\n",
        "  y_par = tail_length[i] - tail_mean\n",
        "  numerator += x_par * y_par\n",
        "  denom_x += x_par**2\n",
        "  denom_y += y_par**2\n",
        "rho_xy = numerator / (np.sqrt(denom_x) * np.sqrt(denom_y))\n",
        "print(rho_xy)\n",
        "\n",
        "# Calculate rho(y,x) using corrcoef:\n",
        "rho_xy_py = np.corrcoef(wing_length, tail_length)[0, 1]\n",
        "print(rho_xy_py)\n",
        "\n",
        "# Calculate rho(y,x):\n",
        "numerator = 0\n",
        "denom_x = 0\n",
        "denom_y = 0\n",
        "for i in range(len(tail_length)):\n",
        "  x_par = wing_length[i] - wing_mean\n",
        "  y_par = tail_length[i] - tail_mean\n",
        "  numerator += y_par * x_par\n",
        "  denom_x += x_par**2\n",
        "  denom_y += y_par**2\n",
        "rho_yx = numerator / (np.sqrt(denom_x) * np.sqrt(denom_y))\n",
        "print(rho_yx)\n",
        "\n",
        "# Calculate rho(y,x) using corrcoef:\n",
        "rho_yx_py = np.corrcoef(tail_length, wing_length)[0, 1]\n",
        "print(rho_yx_py)\n",
        "\n",
        "print(\"Yes, the equation and corrcoef generate the same answers. The order of x any y has no effect.\")"
      ],
      "metadata": {
        "colab": {
          "base_uri": "https://localhost:8080/"
        },
        "id": "Q10choNsM1bv",
        "outputId": "ea1e3b90-213d-4da3-d66c-e5bbfa719373"
      },
      "execution_count": null,
      "outputs": [
        {
          "output_type": "stream",
          "name": "stdout",
          "text": [
            "0.8703545613058227\n",
            "0.8703545613058227\n",
            "0.8703545613058227\n",
            "0.8703545613058227\n",
            "Yes, the equation and corrcoef generate the same answers. The order of x any y has no effect.\n"
          ]
        }
      ]
    },
    {
      "cell_type": "code",
      "source": [
        "# Question 3\n",
        "# What is the standard error of rho(x,y)?\n",
        "# The 95% confidence intervals computed from the standard error?\n",
        "\n",
        "# Calculate standard error of rho(x,y):\n",
        "sr = np.sqrt((1 - rho_xy**2) / (len(wing_length) - 2))\n",
        "print(f'The standard error of rho(x,y) = {sr}.')\n",
        "\n",
        "# Calculate confidence interval for Pearson correlation:\n",
        "z_transf = 0.5 * (np.log((1 + rho_xy) / (1 - rho_xy)))\n",
        "sz = np.sqrt(1 / (len(wing_length) -3))\n",
        "zscore = 1.96\n",
        "ci_z = z_transf - (zscore * sz), z_transf + (zscore * sz)\n",
        "r_upper = (np.exp(2 * ci_z[1]) - 1) / (np.exp(2 * ci_z[1]) + 1)\n",
        "r_lower = (np.exp(-2 * ci_z[0]) - 1) / (np.exp(2 * ci_z[0]) + 1)\n",
        "print(f'The 95% confidence intervals are ({r_lower:.3f}, {r_upper:.3f})')"
      ],
      "metadata": {
        "colab": {
          "base_uri": "https://localhost:8080/"
        },
        "id": "125zn4MbgkkD",
        "outputId": "576483c0-a43a-4130-8f13-1a5b97134c44"
      },
      "execution_count": null,
      "outputs": [
        {
          "output_type": "stream",
          "name": "stdout",
          "text": [
            "The standard error of rho(x,y) = 0.15571863652567375.\n",
            "The 95% confidence intervals are (-0.152, 0.963)\n"
          ]
        }
      ]
    },
    {
      "cell_type": "code",
      "source": [
        "# Question 4\n",
        "# Should the value of rho(x,y) be considered significant at the p<0.05 level,\n",
        "# given a two-tailed test (i.e., we reject if the test statistic is too large on\n",
        "# either tail of the null distribution) for Ho = rho(x,y) = 0?\n",
        "\n",
        "# Calculate t-statistic, where t=r/sr:\n",
        "t_stat = rho_xy / sr\n",
        "print(f'The t-statistic is {t_stat}.')\n",
        "\n",
        "# Calculate p-val to check for significance:\n",
        "p_val = 2 * (1- st.t.cdf(t_stat, len(wing_length) - 2))\n",
        "print(f'The p-value is {p_val}.')\n",
        "\n",
        "print(\"Yes, the value of rho(x,y) is significant at the p<0.05 level.\")"
      ],
      "metadata": {
        "colab": {
          "base_uri": "https://localhost:8080/"
        },
        "id": "CY6t5e9Z5giG",
        "outputId": "d9dba21c-5f92-41b8-e351-37d3d66477cb"
      },
      "execution_count": null,
      "outputs": [
        {
          "output_type": "stream",
          "name": "stdout",
          "text": [
            "The t-statistic is 5.589276792584329.\n",
            "The p-value is 0.00023110594312059085.\n",
            "Yes, the value of rho(x,y) is significant at the p<0.05 level.\n"
          ]
        }
      ]
    },
    {
      "cell_type": "code",
      "source": [
        "# Question 5\n",
        "# Yale does the exact same study and finds that his correlation value is 0.75. Is this the same as yours?\n",
        "# That is, evaluate Ho = r = rs = 0.75.\n",
        "\n",
        "# Calculate t-statistic, where lambda = (zr - zrs)/sz\n",
        "rs = 0.75\n",
        "zr = z_transf\n",
        "zrs = 0.5 * (np.log((1 + rs) / (1 - rs)))\n",
        "t_yale = (zr - zrs) / sz\n",
        "print(f'The lambda value is {t_yale}.')\n",
        "\n",
        "# Calculate p-val to check for significance:\n",
        "p_val_yale = 2 * (1- st.t.cdf(t_yale, len(wing_length) - 2))\n",
        "print(f'The p-value is {p_val_yale}.')\n",
        "\n",
        "print(\"These values of rho(x,y) are not significantly different at the p<0.05 level.\")"
      ],
      "metadata": {
        "colab": {
          "base_uri": "https://localhost:8080/"
        },
        "id": "oKpP_Wc48n_D",
        "outputId": "617364d0-5840-45ab-b416-25198db1d2c0"
      },
      "execution_count": null,
      "outputs": [
        {
          "output_type": "stream",
          "name": "stdout",
          "text": [
            "The lambda value is 1.0847547271784326.\n",
            "The p-value is 0.3034890172946687.\n",
            "These values of rho(x,y) are not significantly different at the p<0.05 level.\n"
          ]
        }
      ]
    },
    {
      "cell_type": "code",
      "source": [
        "# Question 6:\n",
        "# Finally, calculate the statistical power and sample size needed to reject H0: r = 0 when r > 0.5.\n",
        "\n",
        "# Use power function to calculate power\n",
        "import numpy as np\n",
        "from statsmodels.stats.power import NormalIndPower\n",
        "\n",
        "# Set model parameters\n",
        "effect_size = 0.5  # Target r\n",
        "alpha = 0.05\n",
        "power = 0.8\n",
        "power_analysis = NormalIndPower()\n",
        "\n",
        "# Calculate required sample size\n",
        "sample_size = power_analysis.solve_power(effect_size=np.arctanh(effect_size), power=power, alpha=alpha, alternative='two-sided')\n",
        "\n",
        "print(f'Required sample size: {int(np.ceil(sample_size))}')\n"
      ],
      "metadata": {
        "colab": {
          "base_uri": "https://localhost:8080/"
        },
        "id": "5go8myI3-X_E",
        "outputId": "14d0a438-1c1a-46a4-c838-889939bedcd4"
      },
      "execution_count": null,
      "outputs": [
        {
          "output_type": "stream",
          "name": "stdout",
          "text": [
            "Required sample size: 53\n"
          ]
        }
      ]
    }
  ]
}