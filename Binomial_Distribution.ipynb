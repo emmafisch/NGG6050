{
  "nbformat": 4,
  "nbformat_minor": 0,
  "metadata": {
    "colab": {
      "provenance": [],
      "authorship_tag": "ABX9TyNULuF9h0XPzwEmpI65l+WH",
      "include_colab_link": true
    },
    "kernelspec": {
      "name": "python3",
      "display_name": "Python 3"
    },
    "language_info": {
      "name": "python"
    }
  },
  "cells": [
    {
      "cell_type": "markdown",
      "metadata": {
        "id": "view-in-github",
        "colab_type": "text"
      },
      "source": [
        "<a href=\"https://colab.research.google.com/github/emmafisch/NGG6050/blob/main/Binomial_Distribution.ipynb\" target=\"_parent\"><img src=\"https://colab.research.google.com/assets/colab-badge.svg\" alt=\"Open In Colab\"/></a>"
      ]
    },
    {
      "cell_type": "markdown",
      "source": [
        "#Binomial distribution exercises\n",
        "HW 09/10/24"
      ],
      "metadata": {
        "id": "wnWhGX1gdGFa"
      }
    },
    {
      "cell_type": "code",
      "source": [
        "import numpy as np\n",
        "import random as rnd\n",
        "import collections\n",
        "import matplotlib.pyplot as plt\n",
        "import time\n",
        "import scipy.stats as st\n",
        "\n",
        "from scipy.stats import bernoulli, binom, poisson, chi2\n",
        "from IPython.display import clear_output\n",
        "from operator import itemgetter\n",
        "from statsmodels.stats import proportion\n",
        "\n",
        "from numpy import matlib"
      ],
      "metadata": {
        "id": "FgcDj1MEeEDi"
      },
      "execution_count": 1,
      "outputs": []
    },
    {
      "cell_type": "markdown",
      "source": [
        "##Exercise 1"
      ],
      "metadata": {
        "id": "h8QMAQDLZ9on"
      }
    },
    {
      "cell_type": "code",
      "execution_count": 2,
      "metadata": {
        "colab": {
          "base_uri": "https://localhost:8080/"
        },
        "id": "fHylqWugZ1kq",
        "outputId": "e446dae3-cb67-4864-fc9b-f077d4719a1a"
      },
      "outputs": [
        {
          "output_type": "stream",
          "name": "stdout",
          "text": [
            "Probability of releasing 0 quanta: 0.1074\n",
            "Probability of releasing 1 quanta: 0.2684\n",
            "Probability of releasing 2 quanta: 0.3020\n",
            "Probability of releasing 3 quanta: 0.2013\n",
            "Probability of releasing 4 quanta: 0.0881\n",
            "Probability of releasing 5 quanta: 0.0264\n",
            "Probability of releasing 6 quanta: 0.0055\n",
            "Probability of releasing 7 quanta: 0.0008\n",
            "Probability of releasing 8 quanta: 0.0001\n",
            "Probability of releasing 9 quanta: 0.0000\n",
            "Probability of releasing 10 quanta: 0.0000\n"
          ]
        }
      ],
      "source": [
        "# equation :   P(X=ksuccesses)=(n-choose-k)p^k (1−p)^n−k where (n-choose-k) =n! / k!(n−k)!\n",
        "\n",
        "# Number of trials (quanta available) and probability of success (release probability)\n",
        "n = 10  # total number of quanta\n",
        "p = 0.2  # probability of release for each quantum\n",
        "\n",
        "# Calculate probabilities for 0 to 10 quanta being released\n",
        "probabilities = [binom.pmf(k, n, p) for k in range(n+1)]\n",
        "\n",
        "# Print the probabilities for each number of quanta released\n",
        "for k, prob in enumerate(probabilities):\n",
        "    print(f\"Probability of releasing {k} quanta: {prob:.4f}\")\n"
      ]
    },
    {
      "cell_type": "markdown",
      "source": [
        "##Exercise 2"
      ],
      "metadata": {
        "id": "av73YaVTZ7pT"
      }
    },
    {
      "cell_type": "code",
      "source": [
        "# Number of trials (quanta available) and supposed probability of a quantal release\n",
        "n = 14\n",
        "k = 8\n",
        "\n",
        "for p in np.arange(0.1, 1.1, 0.1):\n",
        "  probabilities = [binom.pmf(k, n, p)]\n",
        "  print(f\"Probability of release: {p:.2f}; Probability of releasing {k} quanta: {probabilities[0]:.6f}\")\n",
        "\n",
        "# Most likely release probability: 0.6"
      ],
      "metadata": {
        "colab": {
          "base_uri": "https://localhost:8080/"
        },
        "id": "S22g7HwQytYz",
        "outputId": "bbca56e8-1172-47c5-9024-76de1abdf675"
      },
      "execution_count": 3,
      "outputs": [
        {
          "output_type": "stream",
          "name": "stdout",
          "text": [
            "Probability of release: 0.10; Probability of releasing 8 quanta: 0.000016\n",
            "Probability of release: 0.20; Probability of releasing 8 quanta: 0.002015\n",
            "Probability of release: 0.30; Probability of releasing 8 quanta: 0.023180\n",
            "Probability of release: 0.40; Probability of releasing 8 quanta: 0.091821\n",
            "Probability of release: 0.50; Probability of releasing 8 quanta: 0.183289\n",
            "Probability of release: 0.60; Probability of releasing 8 quanta: 0.206598\n",
            "Probability of release: 0.70; Probability of releasing 8 quanta: 0.126202\n",
            "Probability of release: 0.80; Probability of releasing 8 quanta: 0.032244\n",
            "Probability of release: 0.90; Probability of releasing 8 quanta: 0.001293\n",
            "Probability of release: 1.00; Probability of releasing 8 quanta: 0.000000\n"
          ]
        }
      ]
    },
    {
      "cell_type": "markdown",
      "source": [
        "##Exercise 3"
      ],
      "metadata": {
        "id": "dc-IM93IpLrQ"
      }
    },
    {
      "cell_type": "code",
      "source": [
        "# Assuming probability of release is 0.1\n",
        "n = 14\n",
        "p = 0.1\n",
        "\n",
        "# Probability of release of 8 quanta (from exercise 2)\n",
        "probability_eight = binom.pmf(8, n, p)\n",
        "print(f\"Probability of releasing 8 quanta: {probability_eight}\")\n",
        "\n",
        "# Probability of release of 5 quanta\n",
        "probability_five = binom.pmf(5, n, p)\n",
        "print(f\"Probability of releasing 5 quanta: {probability_five}\")\n",
        "\n",
        "# Compute likelihood: multiply two probabilities\n",
        "likelihood = probability_eight * probability_five\n",
        "print(f\"Likelihood: {likelihood}\")\n",
        "\n",
        "# Compute log likelihood: sum log of two probabilities\n",
        "log_likelihood = np.log(probability_eight) + np.log(probability_five)\n",
        "print(f\"Log likelihood: {log_likelihood}\")\n",
        "\n",
        "# Compute likelihood for p in range (0, 1.1, 0.1)\n",
        "for p in np.arange(0, 1.1, 0.1):\n",
        "    probability_eight = binom.pmf(8, n, p)\n",
        "    probability_five = binom.pmf(5, n, p)\n",
        "    likelihood = probability_eight * probability_five\n",
        "    print(f\"Likelihood for p={p:2f}: {likelihood}\")\n",
        "    log_likelihood = np.log(probability_eight) + np.log(probability_five)\n",
        "    print(f\"Log likelihood for p={p:2f}: {log_likelihood}\")\n",
        "    print(\" \")\n",
        "\n",
        "print(f\"Maximum value : p = 0.5, likelihood = 0.0224, log likelihood = -3.80\")\n",
        "print(f\"Estimate improves (moderately) as resolution increases.\")\n",
        "\n",
        "# Compute likelihoods and log likelihoods for larger sample sizes (N)\n",
        "N_sizes = [10, 100, 1000]\n",
        "for N in N_sizes:\n",
        "    print(f\"For sample size {N}:\")\n",
        "    for p in np.arange(0, 1.1, 0.1):\n",
        "      probability_eight = binom.pmf(8, n, p)\n",
        "      probability_five = binom.pmf(5, n, p)\n",
        "      likelihood = (probability_eight * probability_five)**N\n",
        "      print(f\"Likelihood for p={p:.2f}: {likelihood:.6f}\")\n",
        "      log_likelihood = (np.log(probability_eight) + np.log(probability_five)) * N\n",
        "      print(f\"Log likelihood for p={p:.2f}: {log_likelihood:.6f}\")\n",
        "      print(\" \")\n",
        "\n",
        "print(f\"Estimate increases as N increases.\")\n",
        "\n"
      ],
      "metadata": {
        "colab": {
          "base_uri": "https://localhost:8080/"
        },
        "id": "sM_GfuVXXPfB",
        "outputId": "9ff72107-dbbb-4d34-d6f0-53674d6b0be8"
      },
      "execution_count": 9,
      "outputs": [
        {
          "output_type": "stream",
          "name": "stdout",
          "text": [
            "Probability of releasing 8 quanta: 1.5959173230000027e-05\n",
            "Probability of releasing 5 quanta: 0.007756158189780006\n",
            "Likelihood: 1.2378187214998254e-07\n",
            "Log likelihood: -15.90474491593149\n",
            "Likelihood for p=0.000000: 0.0\n",
            "Log likelihood for p=0.000000: -inf\n",
            " \n",
            "Likelihood for p=0.100000: 1.2378187214998254e-07\n",
            "Log likelihood for p=0.100000: -15.90474491593149\n",
            " \n",
            "Likelihood for p=0.200000: 0.0001732842750806352\n",
            "Log likelihood for p=0.200000: -8.660577103497953\n",
            " \n",
            "Likelihood for p=0.300000: 0.00455057542282908\n",
            "Log likelihood for p=0.300000: -5.392501587459657\n",
            " \n",
            "Likelihood for p=0.400000: 0.01897003133922153\n",
            "Log likelihood for p=0.400000: -3.9648948429953808\n",
            " \n",
            "Likelihood for p=0.500000: 0.022396467626094804\n",
            "Log likelihood for p=0.500000: -3.798852027819973\n",
            " \n",
            "Likelihood for p=0.600000: 0.00843112503965401\n",
            "Log likelihood for p=0.600000: -4.7758250592117095\n",
            " \n",
            "Likelihood for p=0.700000: 0.0008358199756216637\n",
            "Log likelihood for p=0.700000: -7.087097308234069\n",
            " \n",
            "Likelihood for p=0.800000: 1.0830267192539667e-05\n",
            "Log likelihood for p=0.800000: -11.433165825737737\n",
            " \n",
            "Likelihood for p=0.900000: 1.5281712611108898e-09\n",
            "Log likelihood for p=0.900000: -20.29919407060393\n",
            " \n",
            "Likelihood for p=1.000000: 0.0\n",
            "Log likelihood for p=1.000000: -inf\n",
            " \n",
            "Maximum value : p = 0.5, likelihood = 0.0224, log likelihood = -3.80\n",
            "Estimate improves (moderately) as resolution increases.\n",
            "For sample size 10:\n",
            "Likelihood for p=0.00: 0.000000\n",
            "Log likelihood for p=0.00: -inf\n",
            " \n",
            "Likelihood for p=0.10: 0.000000\n",
            "Log likelihood for p=0.10: -159.047449\n",
            " \n",
            "Likelihood for p=0.20: 0.000000\n",
            "Log likelihood for p=0.20: -86.605771\n",
            " \n",
            "Likelihood for p=0.30: 0.000000\n",
            "Log likelihood for p=0.30: -53.925016\n",
            " \n",
            "Likelihood for p=0.40: 0.000000\n",
            "Log likelihood for p=0.40: -39.648948\n",
            " \n",
            "Likelihood for p=0.50: 0.000000\n",
            "Log likelihood for p=0.50: -37.988520\n",
            " \n",
            "Likelihood for p=0.60: 0.000000\n",
            "Log likelihood for p=0.60: -47.758251\n",
            " \n",
            "Likelihood for p=0.70: 0.000000\n",
            "Log likelihood for p=0.70: -70.870973\n",
            " \n",
            "Likelihood for p=0.80: 0.000000\n",
            "Log likelihood for p=0.80: -114.331658\n",
            " \n",
            "Likelihood for p=0.90: 0.000000\n",
            "Log likelihood for p=0.90: -202.991941\n",
            " \n",
            "Likelihood for p=1.00: 0.000000\n",
            "Log likelihood for p=1.00: -inf\n",
            " \n",
            "For sample size 100:\n",
            "Likelihood for p=0.00: 0.000000\n",
            "Log likelihood for p=0.00: -inf\n",
            " \n",
            "Likelihood for p=0.10: 0.000000\n",
            "Log likelihood for p=0.10: -1590.474492\n",
            " \n",
            "Likelihood for p=0.20: 0.000000\n",
            "Log likelihood for p=0.20: -866.057710\n",
            " \n",
            "Likelihood for p=0.30: 0.000000\n",
            "Log likelihood for p=0.30: -539.250159\n",
            " \n",
            "Likelihood for p=0.40: 0.000000\n",
            "Log likelihood for p=0.40: -396.489484\n",
            " \n",
            "Likelihood for p=0.50: 0.000000\n",
            "Log likelihood for p=0.50: -379.885203\n",
            " \n",
            "Likelihood for p=0.60: 0.000000\n",
            "Log likelihood for p=0.60: -477.582506\n",
            " \n",
            "Likelihood for p=0.70: 0.000000\n",
            "Log likelihood for p=0.70: -708.709731\n",
            " \n",
            "Likelihood for p=0.80: 0.000000\n",
            "Log likelihood for p=0.80: -1143.316583\n",
            " \n",
            "Likelihood for p=0.90: 0.000000\n",
            "Log likelihood for p=0.90: -2029.919407\n",
            " \n",
            "Likelihood for p=1.00: 0.000000\n",
            "Log likelihood for p=1.00: -inf\n",
            " \n",
            "For sample size 1000:\n",
            "Likelihood for p=0.00: 0.000000\n",
            "Log likelihood for p=0.00: -inf\n",
            " \n",
            "Likelihood for p=0.10: 0.000000\n",
            "Log likelihood for p=0.10: -15904.744916\n",
            " \n",
            "Likelihood for p=0.20: 0.000000\n",
            "Log likelihood for p=0.20: -8660.577103\n",
            " \n",
            "Likelihood for p=0.30: 0.000000\n",
            "Log likelihood for p=0.30: -5392.501587\n",
            " \n",
            "Likelihood for p=0.40: 0.000000\n",
            "Log likelihood for p=0.40: -3964.894843\n",
            " \n",
            "Likelihood for p=0.50: 0.000000\n",
            "Log likelihood for p=0.50: -3798.852028\n",
            " \n",
            "Likelihood for p=0.60: 0.000000\n",
            "Log likelihood for p=0.60: -4775.825059\n",
            " \n",
            "Likelihood for p=0.70: 0.000000\n",
            "Log likelihood for p=0.70: -7087.097308\n",
            " \n",
            "Likelihood for p=0.80: 0.000000\n",
            "Log likelihood for p=0.80: -11433.165826\n",
            " \n",
            "Likelihood for p=0.90: 0.000000\n",
            "Log likelihood for p=0.90: -20299.194071\n",
            " \n",
            "Likelihood for p=1.00: 0.000000\n",
            "Log likelihood for p=1.00: -inf\n",
            " \n",
            "Estimate increases as N increases.\n"
          ]
        },
        {
          "output_type": "stream",
          "name": "stderr",
          "text": [
            "<ipython-input-9-76a36df6c3be>:27: RuntimeWarning: divide by zero encountered in log\n",
            "  log_likelihood = np.log(probability_eight) + np.log(probability_five)\n",
            "<ipython-input-9-76a36df6c3be>:43: RuntimeWarning: divide by zero encountered in log\n",
            "  log_likelihood = (np.log(probability_eight) + np.log(probability_five)) * N\n"
          ]
        }
      ]
    },
    {
      "cell_type": "markdown",
      "source": [
        "##Exercise 4"
      ],
      "metadata": {
        "id": "0D9JmG-MfYkI"
      }
    },
    {
      "cell_type": "code",
      "source": [
        "# Create lists of measured releases and corresponding counts\n",
        "n = 14\n",
        "measured_releases = [0, 0, 2, 3, 4, 5, 6, 7, 8, 9, 10, 11, 12, 13, 14]\n",
        "counts = [0, 0, 3, 7, 10, 19, 26, 16, 16, 5, 5, 0, 0, 0, 0]\n",
        "\n",
        "# Create function for computing likelihood in order to find max (p-hat)\n",
        "def likelihood(p):\n",
        "  total_likelihood = 1\n",
        "  for val in range(len(measured_releases)):\n",
        "    k = measured_releases[val]\n",
        "    count = counts[val]\n",
        "    prob = binom.pmf(k, n, p)\n",
        "    total_likelihood *= prob ** count\n",
        "  return total_likelihood\n",
        "\n",
        "# Compute likelihoods for diff values of p in range (0, 1.01, 0.01)\n",
        "p_vals = np.arange(0.01, 1.01, 0.01)\n",
        "likelihoods = [likelihood(p) for p in p_vals]\n",
        "\n",
        "# Index max likelihood\n",
        "max_likelihood_index = likelihoods.index(max(likelihoods))\n",
        "p_hat = p_vals[max_likelihood_index]\n",
        "print(f'Most likely value of p: {p_hat}')"
      ],
      "metadata": {
        "colab": {
          "base_uri": "https://localhost:8080/"
        },
        "id": "SUJyQQV5faIf",
        "outputId": "3dcedcf0-164b-4873-e2e5-9f36f9875d00"
      },
      "execution_count": 5,
      "outputs": [
        {
          "output_type": "stream",
          "name": "stdout",
          "text": [
            "Most likely value of p: 0.44\n"
          ]
        }
      ]
    },
    {
      "cell_type": "markdown",
      "source": [
        "##Exercise 5"
      ],
      "metadata": {
        "id": "wsXB3EXpzfsf"
      }
    },
    {
      "cell_type": "code",
      "source": [
        "# Compute p-hat for 7 quantal releases out of 14 available\n",
        "n = 14\n",
        "k = 7\n",
        "p_hat = k/n\n",
        "print(f'Most likely value of p: {p_hat}')\n",
        "\n",
        "# Testing null hypothesis: what is probability that you see 7 releases if the prob is still 0.3\n",
        "p = 0.3\n",
        "likelihood = binom.pmf(k, n, p)\n",
        "print(f'Likelihood: {likelihood}')\n",
        "\n",
        "# Can we conclude that temperature has an effect\n",
        "signif_pval = 0.05\n",
        "is_significant = likelihood < signif_pval\n",
        "print(f'Is this probability significant? {is_significant}')"
      ],
      "metadata": {
        "colab": {
          "base_uri": "https://localhost:8080/"
        },
        "id": "GSjyazaVzhTf",
        "outputId": "ead9cda9-d7a5-4593-f73c-1bb639578e7e"
      },
      "execution_count": 7,
      "outputs": [
        {
          "output_type": "stream",
          "name": "stdout",
          "text": [
            "Most likely value of p: 0.5\n",
            "Likelihood: 0.06181335872712\n",
            "Is this probability significant? False\n"
          ]
        }
      ]
    }
  ]
}