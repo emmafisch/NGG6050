{
  "nbformat": 4,
  "nbformat_minor": 0,
  "metadata": {
    "colab": {
      "provenance": []
    },
    "kernelspec": {
      "name": "python3",
      "display_name": "Python 3"
    },
    "language_info": {
      "name": "python"
    }
  },
  "cells": [
    {
      "cell_type": "markdown",
      "source": [
        "##Exercise 1\n"
      ],
      "metadata": {
        "id": "yaC7-qdmQf11"
      }
    },
    {
      "cell_type": "markdown",
      "source": [
        "The p value of 0.05 only tells us, in this case, that the false positive rate of the test is 5%. Because we don't know the incidence/infection rate of the actual population, we cannot know if this test is significant or not."
      ],
      "metadata": {
        "id": "ZqUmjlxUSF--"
      }
    },
    {
      "cell_type": "markdown",
      "source": [
        "##Exercise 2"
      ],
      "metadata": {
        "id": "LcSIIH2AaXqj"
      }
    },
    {
      "cell_type": "code",
      "execution_count": 8,
      "metadata": {
        "colab": {
          "base_uri": "https://localhost:8080/"
        },
        "id": "1qJm-ykROxES",
        "outputId": "2512bb9b-cb8b-4921-e1f8-d000ea6f9eea"
      },
      "outputs": [
        {
          "output_type": "stream",
          "name": "stdout",
          "text": [
            "Probability of a positive test: 0.05665\n",
            "Probability of being infected given a positive test: 0.1235657546337158\n"
          ]
        }
      ],
      "source": [
        "## Exercise 2\n",
        "## What is the probability that if someone gets a positive test, that person is infected?\n",
        "\n",
        "#Using irl incidence rate = 0.007\n",
        "\n",
        "P_infected = 0.007\n",
        "P_not_infected = 1 - 0.007\n",
        "P_positive_test_given_infected = 1\n",
        "P_positive_test_given_not_infected = 0.05\n",
        "P_positive_test = P_positive_test_given_infected * P_infected + P_positive_test_given_not_infected * P_not_infected\n",
        "print(f'Probability of a positive test: {P_positive_test}')\n",
        "\n",
        "## Probability that a person is infected given a positive test\n",
        "P_infected_given_positive_test = P_positive_test_given_infected * P_infected / P_positive_test\n",
        "print(f'Probability of being infected given a positive test: {P_infected_given_positive_test}')\n",
        "\n"
      ]
    },
    {
      "cell_type": "code",
      "source": [
        "## Exercise 2 cont\n",
        "## Using variable incidence rates\n",
        "\n",
        "import numpy as np\n",
        "\n",
        "for P_infected in np.arange(0, 1.1, 0.1):\n",
        "  print(f'Incidence rate: {P_infected}')\n",
        "  P_not_infected = 1 - P_infected\n",
        "  P_positive_test_given_infected = 1\n",
        "  P_positive_test_given_not_infected = 0.05\n",
        "  P_positive_test = P_positive_test_given_infected * P_infected + P_positive_test_given_not_infected * P_not_infected\n",
        "  print(f'Probability of a positive test: {P_positive_test}')\n",
        "\n",
        "  ## Probability that a person is infected given a positive test\n",
        "  P_infected_given_positive_test = P_positive_test_given_infected * P_infected / P_positive_test\n",
        "  print(f'Probability of being infected given a positive test: {P_infected_given_positive_test}')\n",
        "  print('------')"
      ],
      "metadata": {
        "colab": {
          "base_uri": "https://localhost:8080/"
        },
        "id": "yI1zOa7UWsU9",
        "outputId": "8d9aa269-fdaf-4e50-c24a-e048daad4504"
      },
      "execution_count": 9,
      "outputs": [
        {
          "output_type": "stream",
          "name": "stdout",
          "text": [
            "Incidence rate: 0.0\n",
            "Probability of a positive test: 0.05\n",
            "Probability of being infected given a positive test: 0.0\n",
            "------\n",
            "Incidence rate: 0.1\n",
            "Probability of a positive test: 0.14500000000000002\n",
            "Probability of being infected given a positive test: 0.689655172413793\n",
            "------\n",
            "Incidence rate: 0.2\n",
            "Probability of a positive test: 0.24000000000000002\n",
            "Probability of being infected given a positive test: 0.8333333333333333\n",
            "------\n",
            "Incidence rate: 0.30000000000000004\n",
            "Probability of a positive test: 0.335\n",
            "Probability of being infected given a positive test: 0.8955223880597015\n",
            "------\n",
            "Incidence rate: 0.4\n",
            "Probability of a positive test: 0.43000000000000005\n",
            "Probability of being infected given a positive test: 0.9302325581395349\n",
            "------\n",
            "Incidence rate: 0.5\n",
            "Probability of a positive test: 0.525\n",
            "Probability of being infected given a positive test: 0.9523809523809523\n",
            "------\n",
            "Incidence rate: 0.6000000000000001\n",
            "Probability of a positive test: 0.6200000000000001\n",
            "Probability of being infected given a positive test: 0.967741935483871\n",
            "------\n",
            "Incidence rate: 0.7000000000000001\n",
            "Probability of a positive test: 0.7150000000000001\n",
            "Probability of being infected given a positive test: 0.979020979020979\n",
            "------\n",
            "Incidence rate: 0.8\n",
            "Probability of a positive test: 0.81\n",
            "Probability of being infected given a positive test: 0.9876543209876543\n",
            "------\n",
            "Incidence rate: 0.9\n",
            "Probability of a positive test: 0.905\n",
            "Probability of being infected given a positive test: 0.994475138121547\n",
            "------\n",
            "Incidence rate: 1.0\n",
            "Probability of a positive test: 1.0\n",
            "Probability of being infected given a positive test: 1.0\n",
            "------\n"
          ]
        }
      ]
    }
  ]
}